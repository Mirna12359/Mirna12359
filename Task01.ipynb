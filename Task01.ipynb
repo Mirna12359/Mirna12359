{
  "cells": [
    {
      "cell_type": "markdown",
      "metadata": {
        "id": "view-in-github",
        "colab_type": "text"
      },
      "source": [
        "<a href=\"https://colab.research.google.com/github/Mirna12359/Mirna12359/blob/main/Task01.ipynb\" target=\"_parent\"><img src=\"https://colab.research.google.com/assets/colab-badge.svg\" alt=\"Open In Colab\"/></a>"
      ]
    },
    {
      "cell_type": "code",
      "execution_count": 1,
      "metadata": {
        "id": "GEWL2W7f7-5N"
      },
      "outputs": [],
      "source": [
        "# importing libraries\n",
        "import numpy as np\n",
        "import pandas as pd\n",
        "import matplotlib.pyplot as plt"
      ]
    },
    {
      "cell_type": "markdown",
      "metadata": {
        "id": "u0eEx0kU7-5P"
      },
      "source": [
        "# Task 1 : Python\n",
        "\n",
        "## Write a Python program to reverse a string."
      ]
    },
    {
      "cell_type": "code",
      "execution_count": 4,
      "metadata": {
        "id": "CpWol3wj7-5R",
        "outputId": "9576d7ca-05fd-4c49-af81-40963816be47",
        "colab": {
          "base_uri": "https://localhost:8080/"
        }
      },
      "outputs": [
        {
          "output_type": "stream",
          "name": "stdout",
          "text": [
            "ymaS anreM\n",
            "dlroW olleH\n"
          ]
        }
      ],
      "source": [
        "def my_function(x):\n",
        "  return x[::-1]\n",
        "newtext = my_function(\"Merna Samy\")\n",
        "t = \"Hello World\"[::-1]\n",
        "print(newtext)\n",
        "print(t)\n"
      ]
    },
    {
      "cell_type": "markdown",
      "metadata": {
        "id": "ESQWaeLa7-5S"
      },
      "source": [
        "# Task 2 :Numpy \n",
        "\n",
        "## Write a NumPy program to multiply a 5x3 matrix by a 3x2 matrix and create a real matrix product."
      ]
    },
    {
      "cell_type": "code",
      "execution_count": 7,
      "metadata": {
        "id": "bYZ0gARV7-5S",
        "outputId": "b0633d3d-b406-4652-e756-0580078214b0",
        "colab": {
          "base_uri": "https://localhost:8080/",
          "height": 261
        }
      },
      "outputs": [
        {
          "output_type": "stream",
          "name": "stdout",
          "text": [
            "[[0.74552193 0.79419719 0.20144657]\n",
            " [0.00956264 0.02988246 0.07789507]\n",
            " [0.56443201 0.26905909 0.82661332]\n",
            " [0.47397859 0.10984054 0.62501844]\n",
            " [0.33819332 0.34959414 0.07407013]]\n",
            "[[0.23003426 0.04975464]\n",
            " [0.16155486 0.91970055]\n",
            " [0.2452706  0.4927946 ]]\n",
            "[[0.34921093 0.86678855]\n",
            " [0.02613276 0.06634497]\n",
            " [0.37605045 0.68288749]\n",
            " [0.28007524 0.43260875]\n",
            " [0.15244191 0.37484996]]\n"
          ]
        },
        {
          "output_type": "execute_result",
          "data": {
            "text/plain": [
              "'x=np.array([[1,2,3],[4,5,6],[7,8,9],[10,11,12],[1,1,1]],dtype=np.float64)\\ny=np.array([[1,1],[11,11],[2,2]], dtype=np.float64)\\nprint(y*x)'"
            ],
            "application/vnd.google.colaboratory.intrinsic+json": {
              "type": "string"
            }
          },
          "metadata": {},
          "execution_count": 7
        }
      ],
      "source": [
        "import numpy as np\n",
        "x = np.random.random((5,3))\n",
        "print(x)\n",
        "y = np.random.random((3,2))\n",
        "print(y)\n",
        "print(np.dot(x, y))\n",
        "'''x=np.array([[1,2,3],[4,5,6],[7,8,9],[10,11,12],[1,1,1]],dtype=np.float64)\n",
        "y=np.array([[1,1],[11,11],[2,2]], dtype=np.float64)\n",
        "print(x*y)'''"
      ]
    },
    {
      "cell_type": "markdown",
      "metadata": {
        "id": "r-jFqt6F7-5S"
      },
      "source": [
        "# Task 3 : Pandas \n",
        "\n",
        "## Write a Pandas program to count the number of rows and columns of a DataFrame.\n"
      ]
    },
    {
      "cell_type": "code",
      "execution_count": 10,
      "metadata": {
        "id": "iahLWA9W7-5T"
      },
      "outputs": [],
      "source": [
        "# sample DataFrame:\n",
        "exam_data = {'name': ['Anastasia', 'Dima', 'Katherine', 'James', 'Emily', 'Michael', 'Matthew', 'Laura', 'Kevin', 'Jonas'],\n",
        "'score': [12.5, 9, 16.5, np.nan, 9, 20, 14.5, np.nan, 8, 19],\n",
        "'attempts': [1, 3, 2, 3, 2, 3, 1, 1, 2, 1],\n",
        "'qualify': ['yes', 'no', 'yes', 'no', 'no', 'yes', 'yes', 'no', 'no', 'yes']}\n",
        "labels = ['a', 'b', 'c', 'd', 'e', 'f', 'g', 'h', 'i', 'j']"
      ]
    },
    {
      "cell_type": "code",
      "execution_count": 11,
      "metadata": {
        "id": "oEUKDpJn7-5T",
        "outputId": "07faff18-489f-4a97-b3b6-70be29521f3c",
        "colab": {
          "base_uri": "https://localhost:8080/"
        }
      },
      "outputs": [
        {
          "output_type": "stream",
          "name": "stdout",
          "text": [
            "Number of Rows: 10\n",
            "Number of Columns: 4\n"
          ]
        }
      ],
      "source": [
        "df = pd.DataFrame(exam_data , index=labels)\n",
        "total_rows=len(df.axes[0])\n",
        "total_cols=len(df.axes[1])\n",
        "print(\"Number of Rows: \"+str(total_rows))\n",
        "print(\"Number of Columns: \"+str(total_cols))"
      ]
    },
    {
      "cell_type": "markdown",
      "metadata": {
        "id": "7oCtXXsy7-5T"
      },
      "source": [
        "# Task 4 : Matplotlib\n",
        "\n",
        "### Write a Python program to draw a scatter plot comparing two subject marks of Mathematics and Science. Use marks of 10 students.\n",
        "#### Don't forget to add legends and labels\n"
      ]
    },
    {
      "cell_type": "code",
      "execution_count": 8,
      "metadata": {
        "id": "p2vZYW2y7-5U"
      },
      "outputs": [],
      "source": [
        "# Test Data:\n",
        "math_marks = [88, 92, 80, 89, 100, 80, 60, 100, 80, 34]\n",
        "science_marks = [35, 79, 79, 48, 100, 88, 32, 45, 20, 30]\n",
        "marks_range = [10, 20, 30, 40, 50, 60, 70, 80, 90, 100] "
      ]
    },
    {
      "cell_type": "code",
      "execution_count": 9,
      "metadata": {
        "id": "qF1CPmb07-5U",
        "outputId": "b7c17c06-43c1-4b50-fe34-d932026bb71d",
        "colab": {
          "base_uri": "https://localhost:8080/",
          "height": 295
        }
      },
      "outputs": [
        {
          "output_type": "display_data",
          "data": {
            "text/plain": [
              "<Figure size 432x288 with 1 Axes>"
            ],
            "image/png": "[encoded data removed]"
          },
          "metadata": {
            "needs_background": "light"
          }
        }
      ],
      "source": [
        "import matplotlib.pyplot as plt\n",
        "import pandas as pd\n",
        "math_marks = [88, 92, 80, 89, 100, 80, 60, 100, 80, 34]\n",
        "science_marks = [35, 79, 79, 48, 100, 88, 32, 45, 20, 30]\n",
        "marks_range = [10, 20, 30, 40, 50, 60, 70, 80, 90, 100]\n",
        "plt.scatter(marks_range, math_marks, label='Math marks', color='r')\n",
        "plt.scatter(marks_range, science_marks, label='Science marks', color='g')\n",
        "plt.title('Scatter Plot')\n",
        "plt.xlabel('Marks Range')\n",
        "plt.ylabel('Marks Scored')\n",
        "plt.legend()\n",
        "plt.show()"
      ]
    },
    {
      "cell_type": "code",
      "source": [],
      "metadata": {
        "id": "AQM6Z-XJHNqr"
      },
      "execution_count": null,
      "outputs": []
    }
  ],
  "metadata": {
    "kernelspec": {
      "display_name": "Python 3",
      "language": "python",
      "name": "python3"
    },
    "language_info": {
      "codemirror_mode": {
        "name": "ipython",
        "version": 3
      },
      "file_extension": ".py",
      "mimetype": "text/x-python",
      "name": "python",
      "nbconvert_exporter": "python",
      "pygments_lexer": "ipython3",
      "version": "3.10.4"
    },
    "orig_nbformat": 4,
    "vscode": {
      "interpreter": {
        "hash": "90e5ff047f4d8ee0936f36131c0dac89c9641da576498ae77cf34785848fb9b5"
      }
    },
    "colab": {
      "provenance": [],
      "include_colab_link": true
    }
  },
  "nbformat": 4,
  "nbformat_minor": 0
}